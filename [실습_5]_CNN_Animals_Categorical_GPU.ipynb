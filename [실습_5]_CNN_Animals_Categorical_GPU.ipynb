{
  "nbformat": 4,
  "nbformat_minor": 0,
  "metadata": {
    "colab": {
      "provenance": [],
      "include_colab_link": true
    },
    "kernelspec": {
      "name": "python3",
      "display_name": "Python 3"
    },
    "gpuClass": "standard",
    "accelerator": "GPU"
  },
  "cells": [
    {
      "cell_type": "markdown",
      "metadata": {
        "id": "view-in-github",
        "colab_type": "text"
      },
      "source": [
        "<a href=\"https://colab.research.google.com/github/lucid0465/-/blob/master/%5B%EC%8B%A4%EC%8A%B5_5%5D_CNN_Animals_Categorical_GPU.ipynb\" target=\"_parent\"><img src=\"https://colab.research.google.com/assets/colab-badge.svg\" alt=\"Open In Colab\"/></a>"
      ]
    },
    {
      "cell_type": "markdown",
      "metadata": {
        "id": "q2Pr7oBdYLdf"
      },
      "source": [
        "# 이미지 데이터 셋을 이용한 CNN Modeling\n",
        "## Animals Dataset Categorical Classification\n",
        "* Train_Data : 5000\n",
        "* Valid_Data : 3000\n",
        "* Test_Data : 3000"
      ]
    },
    {
      "cell_type": "code",
      "metadata": {
        "id": "RbPgODpVzdHI"
      },
      "source": [
        "import warnings\n",
        "warnings.filterwarnings('ignore')"
      ],
      "execution_count": null,
      "outputs": []
    },
    {
      "cell_type": "markdown",
      "source": [
        "* Import TensorFlow"
      ],
      "metadata": {
        "id": "kGLxnpmRyMwH"
      }
    },
    {
      "cell_type": "code",
      "source": [
        "import tensorflow as tf\n",
        "\n",
        "tf.__version__"
      ],
      "metadata": {
        "colab": {
          "base_uri": "https://localhost:8080/"
        },
        "id": "axDX2DfUyPlO",
        "outputId": "b369de08-5dd7-4b3f-d14c-c6ac67911d77"
      },
      "execution_count": null,
      "outputs": [
        {
          "output_type": "execute_result",
          "data": {
            "text/plain": [
              "'2.11.0'"
            ],
            "application/vnd.google.colaboratory.intrinsic+json": {
              "type": "string"
            }
          },
          "metadata": {},
          "execution_count": 2
        }
      ]
    },
    {
      "cell_type": "markdown",
      "metadata": {
        "id": "6d1FeKK1CgqG"
      },
      "source": [
        "# I. wget From Github"
      ]
    },
    {
      "cell_type": "markdown",
      "source": [
        "> ## 1) 'animals_part.zip' 파일 다운로드"
      ],
      "metadata": {
        "id": "aQ-o8xUHpG7-"
      }
    },
    {
      "cell_type": "code",
      "source": [
        "!wget https://raw.githubusercontent.com/rusita-ai/pyData/master/animals_part.z{ip,01,02}"
      ],
      "metadata": {
        "colab": {
          "base_uri": "https://localhost:8080/"
        },
        "id": "f32hYtuOh4F4",
        "outputId": "87e98013-aea8-4666-f4ee-b37cfaedf21b"
      },
      "execution_count": null,
      "outputs": [
        {
          "output_type": "stream",
          "name": "stdout",
          "text": [
            "--2023-03-25 01:20:19--  https://raw.githubusercontent.com/rusita-ai/pyData/master/animals_part.zip\n",
            "Resolving raw.githubusercontent.com (raw.githubusercontent.com)... 185.199.110.133, 185.199.108.133, 185.199.111.133, ...\n",
            "Connecting to raw.githubusercontent.com (raw.githubusercontent.com)|185.199.110.133|:443... connected.\n",
            "HTTP request sent, awaiting response... 200 OK\n",
            "Length: 88551715 (84M) [application/zip]\n",
            "Saving to: ‘animals_part.zip’\n",
            "\n",
            "animals_part.zip    100%[===================>]  84.45M   256MB/s    in 0.3s    \n",
            "\n",
            "2023-03-25 01:20:25 (256 MB/s) - ‘animals_part.zip’ saved [88551715/88551715]\n",
            "\n",
            "--2023-03-25 01:20:25--  https://raw.githubusercontent.com/rusita-ai/pyData/master/animals_part.z01\n",
            "Reusing existing connection to raw.githubusercontent.com:443.\n",
            "HTTP request sent, awaiting response... 200 OK\n",
            "Length: 94371840 (90M) [application/octet-stream]\n",
            "Saving to: ‘animals_part.z01’\n",
            "\n",
            "animals_part.z01    100%[===================>]  90.00M   355MB/s    in 0.3s    \n",
            "\n",
            "2023-03-25 01:20:31 (355 MB/s) - ‘animals_part.z01’ saved [94371840/94371840]\n",
            "\n",
            "--2023-03-25 01:20:31--  https://raw.githubusercontent.com/rusita-ai/pyData/master/animals_part.z02\n",
            "Reusing existing connection to raw.githubusercontent.com:443.\n",
            "HTTP request sent, awaiting response... 200 OK\n",
            "Length: 94371840 (90M) [application/octet-stream]\n",
            "Saving to: ‘animals_part.z02’\n",
            "\n",
            "animals_part.z02    100%[===================>]  90.00M   365MB/s    in 0.2s    \n",
            "\n",
            "2023-03-25 01:20:37 (365 MB/s) - ‘animals_part.z02’ saved [94371840/94371840]\n",
            "\n",
            "FINISHED --2023-03-25 01:20:37--\n",
            "Total wall clock time: 18s\n",
            "Downloaded: 3 files, 264M in 0.8s (319 MB/s)\n"
          ]
        }
      ]
    },
    {
      "cell_type": "markdown",
      "metadata": {
        "id": "rBrMKlsgEvV7"
      },
      "source": [
        "* 다운로드 결과 확인"
      ]
    },
    {
      "cell_type": "code",
      "metadata": {
        "id": "ZAA_YjrVExu7",
        "colab": {
          "base_uri": "https://localhost:8080/"
        },
        "outputId": "630cfce2-68bf-414c-aca9-3cd96af61c78"
      },
      "source": [
        "!ls -l"
      ],
      "execution_count": null,
      "outputs": [
        {
          "output_type": "stream",
          "name": "stdout",
          "text": [
            "total 270804\n",
            "-rw-r--r-- 1 root root 94371840 Mar 25 01:20 animals_part.z01\n",
            "-rw-r--r-- 1 root root 94371840 Mar 25 01:20 animals_part.z02\n",
            "-rw-r--r-- 1 root root 88551715 Mar 25 01:20 animals_part.zip\n",
            "drwxr-xr-x 1 root root     4096 Mar 23 18:57 sample_data\n"
          ]
        }
      ]
    },
    {
      "cell_type": "markdown",
      "source": [
        "> ## 2) 분할된 파일 합치기"
      ],
      "metadata": {
        "id": "LpDYRNy9pS72"
      }
    },
    {
      "cell_type": "code",
      "source": [
        "!zip -Fq animals_part.zip --out animals.zip"
      ],
      "metadata": {
        "id": "oObuOlWgc8X7"
      },
      "execution_count": null,
      "outputs": []
    },
    {
      "cell_type": "markdown",
      "source": [
        "* 'animals.zip' 생성 확인"
      ],
      "metadata": {
        "id": "2RJG0f3npnju"
      }
    },
    {
      "cell_type": "code",
      "source": [
        "!ls -l"
      ],
      "metadata": {
        "colab": {
          "base_uri": "https://localhost:8080/"
        },
        "id": "0QoV9boXpsL1",
        "outputId": "716304fa-2026-4a9f-ef0b-ff9061e54604"
      },
      "execution_count": null,
      "outputs": [
        {
          "output_type": "stream",
          "name": "stdout",
          "text": [
            "total 541604\n",
            "-rw-r--r-- 1 root root  94371840 Mar 25 01:20 animals_part.z01\n",
            "-rw-r--r-- 1 root root  94371840 Mar 25 01:20 animals_part.z02\n",
            "-rw-r--r-- 1 root root  88551715 Mar 25 01:20 animals_part.zip\n",
            "-rw-r--r-- 1 root root 277295391 Mar 25 01:20 animals.zip\n",
            "drwxr-xr-x 1 root root      4096 Mar 23 18:57 sample_data\n"
          ]
        }
      ]
    },
    {
      "cell_type": "markdown",
      "metadata": {
        "id": "1DyFdyVxFyHK"
      },
      "source": [
        "# II. Data Preprocessing"
      ]
    },
    {
      "cell_type": "markdown",
      "metadata": {
        "id": "D9zdBsGKnLUo"
      },
      "source": [
        "> ## 1) Unzip 'animals.zip'"
      ]
    },
    {
      "cell_type": "code",
      "metadata": {
        "id": "WkuHaDXcnUtY"
      },
      "source": [
        "!unzip -q /content/animals.zip"
      ],
      "execution_count": null,
      "outputs": []
    },
    {
      "cell_type": "markdown",
      "source": [
        "* 학습 데이터 확인"
      ],
      "metadata": {
        "id": "nYRGJ9bpp4pF"
      }
    },
    {
      "cell_type": "code",
      "source": [
        "!ls -l animals/"
      ],
      "metadata": {
        "colab": {
          "base_uri": "https://localhost:8080/"
        },
        "id": "FdQBGRJTp0MV",
        "outputId": "92ce60f1-bed7-45de-df6b-41a09d9e047c"
      },
      "execution_count": null,
      "outputs": [
        {
          "output_type": "stream",
          "name": "stdout",
          "text": [
            "total 12\n",
            "drwxr-xr-x 12 root root 4096 Oct 25 13:50 test\n",
            "drwxr-xr-x 12 root root 4096 Oct 25 13:50 train\n",
            "drwxr-xr-x 12 root root 4096 Oct 25 13:50 validation\n"
          ]
        }
      ]
    },
    {
      "cell_type": "markdown",
      "metadata": {
        "id": "H49A769LYp-a"
      },
      "source": [
        "> ## 2) Image_File Directory Setting"
      ]
    },
    {
      "cell_type": "markdown",
      "metadata": {
        "id": "fwUMpMCYGB7Z"
      },
      "source": [
        "* train_dir\n",
        "* valid_dir\n",
        "* test_dir"
      ]
    },
    {
      "cell_type": "code",
      "metadata": {
        "id": "DxstjE8b_6Te"
      },
      "source": [
        "train_dir = 'animals/train'\n",
        "valid_dir = 'animals/validation'\n",
        "test_dir  = 'animals/test'"
      ],
      "execution_count": null,
      "outputs": []
    },
    {
      "cell_type": "markdown",
      "metadata": {
        "id": "Mk9XL5vGHor6"
      },
      "source": [
        "> ## 3) ImageDataGenerator( ) & flow_from_directory( )"
      ]
    },
    {
      "cell_type": "markdown",
      "metadata": {
        "id": "vCpCB_giJbZr"
      },
      "source": [
        "> ## 4) Test train_generator"
      ]
    },
    {
      "cell_type": "markdown",
      "metadata": {
        "id": "NTwZiSjiop3v"
      },
      "source": [
        "# III. CNN Keras Modeling"
      ]
    },
    {
      "cell_type": "markdown",
      "metadata": {
        "id": "j5CT0TurJCkc"
      },
      "source": [
        "> ## 1) Model Define"
      ]
    },
    {
      "cell_type": "markdown",
      "metadata": {
        "id": "tpjBDBeYoyuj"
      },
      "source": [
        "> ## 2) Model Compile"
      ]
    },
    {
      "cell_type": "markdown",
      "metadata": {
        "id": "umiq4B-Xo3OB"
      },
      "source": [
        "> ## 3) Model Fit"
      ]
    },
    {
      "cell_type": "markdown",
      "metadata": {
        "id": "FnnIyFtNKhbD"
      },
      "source": [
        "> ## 4) 학습 결과 시각화"
      ]
    },
    {
      "cell_type": "markdown",
      "metadata": {
        "id": "_uJSOLBko7lh"
      },
      "source": [
        "> ## 5) Model Evaluate"
      ]
    },
    {
      "cell_type": "markdown",
      "metadata": {
        "id": "sN48I9GrLxOX"
      },
      "source": [
        "# \n",
        "# \n",
        "# \n",
        "# The End\n",
        "# \n",
        "# \n",
        "# "
      ]
    }
  ]
}
