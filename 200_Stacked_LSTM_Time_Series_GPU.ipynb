{
  "nbformat": 4,
  "nbformat_minor": 0,
  "metadata": {
    "colab": {
      "provenance": [],
      "include_colab_link": true
    },
    "kernelspec": {
      "name": "python3",
      "display_name": "Python 3"
    },
    "accelerator": "GPU"
  },
  "cells": [
    {
      "cell_type": "markdown",
      "metadata": {
        "id": "view-in-github",
        "colab_type": "text"
      },
      "source": [
        "<a href=\"https://colab.research.google.com/github/lucid0465/-/blob/master/200_Stacked_LSTM_Time_Series_GPU.ipynb\" target=\"_parent\"><img src=\"https://colab.research.google.com/assets/colab-badge.svg\" alt=\"Open In Colab\"/></a>"
      ]
    },
    {
      "cell_type": "markdown",
      "metadata": {
        "id": "tVWs-arPN3ep"
      },
      "source": [
        "# Stacked LSTM - Time Serise Dataset\n",
        "\n",
        "* 서울시 기후 데이터 : 2011년 01월 01일 ~ 2019년 12월 31일\n",
        "* https://data.kma.go.kr/cmmn/main.do\n",
        "* 기후통계분석 -> 기온분석 -> 기간(20110101~20191231) -> 검색 -> CSV 다운로드\n",
        "* Seoul_Temp.csv"
      ]
    },
    {
      "cell_type": "code",
      "metadata": {
        "id": "RbPgODpVzdHI"
      },
      "source": [
        "import warnings\n",
        "warnings.filterwarnings('ignore')"
      ],
      "execution_count": null,
      "outputs": []
    },
    {
      "cell_type": "markdown",
      "metadata": {
        "id": "GqNGswL2W9uy"
      },
      "source": [
        "## Import Packages\n",
        "\n",
        "* Packages"
      ]
    },
    {
      "cell_type": "code",
      "metadata": {
        "id": "qZiEyhyIHkXM"
      },
      "source": [
        "import numpy as np\n",
        "import pandas as pd\n",
        "from matplotlib import pyplot as plt"
      ],
      "execution_count": null,
      "outputs": []
    },
    {
      "cell_type": "markdown",
      "metadata": {
        "id": "kFhvODmnXZU3"
      },
      "source": [
        "# I. Colab File Upload"
      ]
    },
    {
      "cell_type": "markdown",
      "metadata": {
        "id": "gvWefCeeU5aR"
      },
      "source": [
        "> ## 1) 'Seoul_temp.csv' 파일을 Colab에 업로드 후 진행"
      ]
    },
    {
      "cell_type": "code",
      "metadata": {
        "id": "yanCl5HdHs35",
        "colab": {
          "base_uri": "https://localhost:8080/",
          "height": 206
        },
        "outputId": "20c4bb23-f5ca-4868-d116-5c3610d0ca56"
      },
      "source": [
        "url = 'https://raw.githubusercontent.com/rusita-ai/pyData/master/Seoul_Temp.csv'\n",
        "temp = pd.read_csv(url)\n",
        "\n",
        "temp.head()"
      ],
      "execution_count": null,
      "outputs": [
        {
          "output_type": "execute_result",
          "data": {
            "text/plain": [
              "         date  avg   min  max\n",
              "0  2011-01-01 -6.8 -10.4 -2.9\n",
              "1  2011-01-02 -5.4  -8.5 -1.2\n",
              "2  2011-01-03 -4.5  -8.5 -0.3\n",
              "3  2011-01-04 -3.9  -7.4 -1.7\n",
              "4  2011-01-05 -4.0  -7.7 -1.8"
            ],
            "text/html": [
              "\n",
              "  <div id=\"df-8b9fd11d-150b-4305-b52a-319cacfc7da1\">\n",
              "    <div class=\"colab-df-container\">\n",
              "      <div>\n",
              "<style scoped>\n",
              "    .dataframe tbody tr th:only-of-type {\n",
              "        vertical-align: middle;\n", 
              "    }\n",
              "\n",
              "    .dataframe tbody tr th {\n",
              "        vertical-align: top;\n",
              "    }\n",
              "\n",
              "    .dataframe thead th {\n",
              "        text-align: right;\n",
              "    }\n",
              "</style>\n",
              "<table border=\"1\" class=\"dataframe\">\n",
              "  <thead>\n",
              "    <tr style=\"text-align: right;\">\n",
              "      <th></th>\n",
              "      <th>date</th>\n",
              "      <th>avg</th>\n",
              "      <th>min</th>\n",
              "      <th>max</th>\n",
              "    </tr>\n",
              "  </thead>\n",
              "  <tbody>\n",
              "    <tr>\n",
              "      <th>0</th>\n",
              "      <td>2011-01-01</td>\n",
              "      <td>-6.8</td>\n",
              "      <td>-10.4</td>\n",
              "      <td>-2.9</td>\n",
              "    </tr>\n",
              "    <tr>\n",
              "      <th>1</th>\n",
              "      <td>2011-01-02</td>\n",
              "      <td>-5.4</td>\n",
              "      <td>-8.5</td>\n",
              "      <td>-1.2</td>\n",
              "    </tr>\n",
              "    <tr>\n",
              "      <th>2</th>\n",
              "      <td>2011-01-03</td>\n",
              "      <td>-4.5</td>\n",
              "      <td>-8.5</td>\n",
              "      <td>-0.3</td>\n",
              "    </tr>\n",
              "    <tr>\n",
              "      <th>3</th>\n",
              "      <td>2011-01-04</td>\n",
              "      <td>-3.9</td>\n",
              "      <td>-7.4</td>\n",
              "      <td>-1.7</td>\n",
              "    </tr>\n",
              "    <tr>\n",
              "      <th>4</th>\n",
              "      <td>2011-01-05</td>\n",
              "      <td>-4.0</td>\n",
              "      <td>-7.7</td>\n",
              "      <td>-1.8</td>\n",
              "    </tr>\n",
              "  </tbody>\n",
              "</table>\n",
              "</div>\n",
              "      <button class=\"colab-df-convert\" onclick=\"convertToInteractive('df-8b9fd11d-150b-4305-b52a-319cacfc7da1')\"\n",
              "              title=\"Convert this dataframe to an interactive table.\"\n",
              "              style=\"display:none;\">\n",
              "        \n",
              "  <svg xmlns=\"http://www.w3.org/2000/svg\" height=\"24px\"viewBox=\"0 0 24 24\"\n",
              "       width=\"24px\">\n",
              "    <path d=\"M0 0h24v24H0V0z\" fill=\"none\"/>\n",
              "    <path d=\"M18.56 5.44l.94 2.06.94-2.06 2.06-.94-2.06-.94-.94-2.06-.94 2.06-2.06.94zm-11 1L8.5 8.5l.94-2.06 2.06-.94-2.06-.94L8.5 2.5l-.94 2.06-2.06.94zm10 10l.94 2.06.94-2.06 2.06-.94-2.06-.94-.94-2.06-.94 2.06-2.06.94z\"/><path d=\"M17.41 7.96l-1.37-1.37c-.4-.4-.92-.59-1.43-.59-.52 0-1.04.2-1.43.59L10.3 9.45l-7.72 7.72c-.78.78-.78 2.05 0 2.83L4 21.41c.39.39.9.59 1.41.59.51 0 1.02-.2 1.41-.59l7.78-7.78 2.81-2.81c.8-.78.8-2.07 0-2.86zM5.41 20L4 18.59l7.72-7.72 1.47 1.35L5.41 20z\"/>\n",
              "  </svg>\n",
              "      </button>\n",
              "      \n",
              "  <style>\n",
              "    .colab-df-container {\n",
              "      display:flex;\n",
              "      flex-wrap:wrap;\n",
              "      gap: 12px;\n",
              "    }\n",
              "\n",
              "    .colab-df-convert {\n",
              "      background-color: #E8F0FE;\n",
              "      border: none;\n",
              "      border-radius: 50%;\n",
              "      cursor: pointer;\n",
              "      display: none;\n",
              "      fill: #1967D2;\n",
              "      height: 32px;\n",
              "      padding: 0 0 0 0;\n",
              "      width: 32px;\n",
              "    }\n",
              "\n",
              "    .colab-df-convert:hover {\n",
              "      background-color: #E2EBFA;\n",
              "      box-shadow: 0px 1px 2px rgba(60, 64, 67, 0.3), 0px 1px 3px 1px rgba(60, 64, 67, 0.15);\n",
              "      fill: #174EA6;\n",
              "    }\n",
              "\n",
              "    [theme=dark] .colab-df-convert {\n",
              "      background-color: #3B4455;\n",
              "      fill: #D2E3FC;\n",
              "    }\n",
              "\n",
              "    [theme=dark] .colab-df-convert:hover {\n",
              "      background-color: #434B5C;\n",
              "      box-shadow: 0px 1px 3px 1px rgba(0, 0, 0, 0.15);\n",
              "      filter: drop-shadow(0px 1px 2px rgba(0, 0, 0, 0.3));\n",
              "      fill: #FFFFFF;\n",
              "    }\n",
              "  </style>\n",
              "\n",
              "      <script>\n",
              "        const buttonEl =\n",
              "          document.querySelector('#df-8b9fd11d-150b-4305-b52a-319cacfc7da1 button.colab-df-convert');\n",
              "        buttonEl.style.display =\n",
              "          google.colab.kernel.accessAllowed ? 'block' : 'none';\n",
              "\n",
              "        async function convertToInteractive(key) {\n",
              "          const element = document.querySelector('#df-8b9fd11d-150b-4305-b52a-319cacfc7da1');\n",
              "          const dataTable =\n",
              "            await google.colab.kernel.invokeFunction('convertToInteractive',\n",
              "                                                     [key], {});\n",
              "          if (!dataTable) return;\n",
              "\n",
              "          const docLinkHtml = 'Like what you see? Visit the ' +\n",
              "            '<a target=\"_blank\" href=https://colab.research.google.com/notebooks/data_table.ipynb>data table notebook</a>'\n",
              "            + ' to learn more about interactive tables.';\n",
              "          element.innerHTML = '';\n",
              "          dataTable['output_type'] = 'display_data';\n",
              "          await google.colab.output.renderOutput(dataTable, element);\n",
              "          const docLink = document.createElement('div');\n",
              "          docLink.innerHTML = docLinkHtml;\n",
              "          element.appendChild(docLink);\n",
              "        }\n",
              "      </script>\n",
              "    </div>\n",
              "  </div>\n",
              "  "
            ]
          },
          "metadata": {},
          "execution_count": 3
        }
      ]
    },
    {
      "cell_type": "markdown",
      "metadata": {
        "id": "KVDXRbXBYEPe"
      },
      "source": [
        "# II. Data Preprocessing"
      ]
    },
    {
      "cell_type": "markdown",
      "metadata": {
        "id": "fy9v_lCiU9HO"
      },
      "source": [
        "> ## 1) 일일 평균온도('avg') 변화 시각화\n",
        "\n",
        "* 일일 평균온도 변화에 일정한 패턴 확인"
      ]
    },
    {
      "cell_type": "code",
      "metadata": {
        "id": "yoof7I1EH86G",
        "colab": {
          "base_uri": "https://localhost:8080/",
          "height": 320
        },
        "outputId": "89c4a5d4-c9a0-45ad-ab8d-f720fec770cf"
      },
      "source": [
        "temp_data = temp[['avg']]\n",
        "\n",
        "plt.figure(figsize = (12, 5))\n",
        "plt.plot(temp_data)\n",
        "plt.show()"
      ],
      "execution_count": null,
      "outputs": [
        {
          "output_type": "display_data",
          "data": {
            "text/plain": [
              "<Figure size 864x360 with 1 Axes>"
            ],
            "image/png": "[encoded data removed]"
          },
          "metadata": {
            "needs_background": "light"
          }
        }
      ]
    },
    {
      "cell_type": "markdown",
      "metadata": {
        "id": "mDFfRx_TXFsG"
      },
      "source": [
        "> ## 2) Normalization\n",
        "\n",
        "* tanh Activation 적용을 위해 -1 ~ 1 범위로 정규화"
      ]
    },
    {
      "cell_type": "code",
      "metadata": {
        "id": "Mweff2FbQZQ7"
      },
      "source": [
        "from sklearn.preprocessing import MinMaxScaler\n",
        "\n",
        "scaler = MinMaxScaler(feature_range = (-1, 1))\n",
        "\n",
        "temp_data = scaler.fit_transform(temp_data)"
      ],
      "execution_count": null,
      "outputs": []
    },
    {
      "cell_type": "markdown",
      "metadata": {
        "id": "RoD5eL7OXodZ"
      },
      "source": [
        "> ## 3) Train vs. Test Split\n",
        "\n",
        "* Train_Dataset : 2011년 01월 01일 ~ 2017년 12월 31일\n",
        "* Test_Dataset : 2018년 01월 01일 ~ 2019년 12월 31일"
      ]
    },
    {
      "cell_type": "code",
      "metadata": {
        "id": "IcFIds3EQdhu"
      },
      "source": [
        "train = temp_data[0:2557]\n",
        "test  = temp_data[2557:]"
      ],
      "execution_count": null,
      "outputs": []
    },
    {
      "cell_type": "markdown",
      "metadata": {
        "id": "HeCV1M_IcjHT"
      },
      "source": [
        "# III. 시계열 데이터 처리 함수"
      ]
    },
    {
      "cell_type": "markdown",
      "metadata": {
        "id": "qIFllEI0YhLI"
      },
      "source": [
        "> ## 1) 시계열 학습용 데이터 생성 함수 정의\n",
        "\n",
        "* X : 학습 평균온도 데이터\n",
        "* y : 정답 평균온도 데이터\n",
        "* 일정 기간의 X로 y를 예측하도록 학습"
      ]
    },
    {
      "cell_type": "code",
      "metadata": {
        "id": "J6dtkntWJO3k"
      },
      "source": [
        "def create_dataset(time_data, look_back = 1):\n",
        "    data_X, data_y = [], []\n",
        "\n",
        "    for i in range(len(time_data) - look_back):\n",
        "        data_X.append(time_data[i:(i + look_back), 0])\n",
        "        data_y.append(time_data[i + look_back, 0])\n",
        "\n",
        "    return np.array(data_X), np.array(data_y)"
      ],
      "execution_count": null,
      "outputs": []
    },
    {
      "cell_type": "markdown",
      "metadata": {
        "id": "HmdQKSurYYaq"
      },
      "source": [
        "> ## 2) loop_back 기간 설정 후 학습데이터 생성\n",
        "\n",
        "* 180일 기간 평균온도로 다음날 평균온도 예측 데이터 생성"
      ]
    },
    {
      "cell_type": "code",
      "metadata": {
        "id": "szxseLqEYTlA"
      },
      "source": [
        "look_back = 180\n",
        "\n",
        "train_X, train_y = create_dataset(train, look_back)\n",
        "test_X,  test_y  = create_dataset(test, look_back)"
      ],
      "execution_count": null,
      "outputs": []
    },
    {
      "cell_type": "markdown",
      "metadata": {
        "id": "mZtq6XoIZzFw"
      },
      "source": [
        "> ## 3) Tensor Reshape"
      ]
    },
    {
      "cell_type": "code",
      "metadata": {
        "id": "R-ZVH1KCQkkN",
        "colab": {
          "base_uri": "https://localhost:8080/"
        },
        "outputId": "bdd6299c-fdd5-4f2f-eb1e-418b91fecc5a"
      },
      "source": [
        "train_X = np.reshape(train_X, (train_X.shape[0], train_X.shape[1], 1))\n",
        "test_X = np.reshape(test_X, (test_X.shape[0], test_X.shape[1], 1))\n",
        "\n",
        "train_X.shape, train_y.shape, test_X.shape, test_y.shape"
      ],
      "execution_count": null,
      "outputs": [
        {
          "output_type": "execute_result",
          "data": {
            "text/plain": [
              "((2377, 180, 1), (2377,), (550, 180, 1), (550,))"
            ]
          },
          "metadata": {},
          "execution_count": 9
        }
      ]
    },
    {
      "cell_type": "markdown",
      "metadata": {
        "id": "3cd2RaWzeTX_"
      },
      "source": [
        "# IV. Stacked LSTM Modeling"
      ]
    },
    {
      "cell_type": "markdown",
      "metadata": {
        "id": "MKJZDHuJeeJh"
      },
      "source": [
        "> ## 1) Model Define"
      ]
    },
    {
      "cell_type": "code",
      "metadata": {
        "id": "nviUzB-3J9ns"
      },
      "source": [
        "from tensorflow.keras.models import Sequential\n",
        "from tensorflow.keras.layers import Dense, LSTM\n",
        "\n",
        "model = Sequential(name = 'Stackd_LSTM')\n",
        "model.add(LSTM(64, \n",
        "               input_shape = (None, 1), \n",
        "               return_sequences = True))\n",
        "model.add(LSTM(64,\n",
        "               input_shape = (None, 1),\n",
        "               return_sequences = False))\n",
        "model.add(Dense(1, activation = 'tanh'))"
      ],
      "execution_count": null,
      "outputs": []
    },
    {
      "cell_type": "markdown",
      "metadata": {
        "id": "IYLeva87e7pG"
      },
      "source": [
        "* Model Summary"
      ]
    },
    {
      "cell_type": "code",
      "metadata": {
        "id": "LQpjGs_ye9-R",
        "colab": {
          "base_uri": "https://localhost:8080/"
        },
        "outputId": "911e5180-8b22-47ac-c8f2-e0976ad10f9e"
      },
      "source": [
        "model.summary()"
      ],
      "execution_count": null,
      "outputs": [
        {
          "output_type": "stream",
          "name": "stdout",
          "text": [
            "Model: \"Stackd_LSTM\"\n",
            "_________________________________________________________________\n",
            " Layer (type)                Output Shape              Param #   \n",
            "=================================================================\n",
            " lstm (LSTM)                 (None, None, 64)          16896     \n",
            "                                                                 \n",
            " lstm_1 (LSTM)               (None, 64)                33024     \n",
            "                                                                 \n",
            " dense (Dense)               (None, 1)                 65        \n",
            "                                                                 \n",
            "=================================================================\n",
            "Total params: 49,985\n",
            "Trainable params: 49,985\n",
            "Non-trainable params: 0\n",
            "_________________________________________________________________\n"
          ]
        }
      ]
    },
    {
      "cell_type": "markdown",
      "metadata": {
        "id": "Co3QNP8QfFv9"
      },
      "source": [
        "> ## 2) Model Compile"
      ]
    },
    {
      "cell_type": "code",
      "metadata": {
        "id": "90LKNvgkP_n8"
      },
      "source": [
        "model.compile(loss = 'mse',\n",
        "              optimizer = 'rmsprop',\n",
        "              metrics = ['mae'])"
      ],
      "execution_count": null,
      "outputs": []
    },
    {
      "cell_type": "markdown",
      "metadata": {
        "id": "u5V3jiYWfd9r"
      },
      "source": [
        "> ## 3) Model Fit\n",
        "\n",
        "* 약 8분"
      ]
    },
    {
      "cell_type": "code",
      "metadata": {
        "id": "b3-ffxd5P8ZP",
        "colab": {
          "base_uri": "https://localhost:8080/"
        },
        "outputId": "dd1cf332-50b8-4ac2-b07a-447e9c3799f3"
      },
      "source": [
        "%%time\n",
        "\n",
        "hist = model.fit(train_X, train_y,\n",
        "                 epochs = 200, \n",
        "                 batch_size = 16,  \n",
        "                 validation_data = (test_X, test_y))"
      ],
      "execution_count": null,
      "outputs": [
        {
          "output_type": "stream",
          "name": "stdout",
          "text": [
            "Epoch 1/200\n",
            "149/149 [==============================] - 17s 19ms/step - loss: 0.0234 - mae: 0.1151 - val_loss: 0.0167 - val_mae: 0.1000\n",
            "Epoch 2/200\n",
            "149/149 [==============================] - 2s 13ms/step - loss: 0.0175 - mae: 0.1018 - val_loss: 0.0148 - val_mae: 0.0921\n",
            "Epoch 3/200\n",
            "149/149 [==============================] - 2s 13ms/step - loss: 0.0160 - mae: 0.0970 - val_loss: 0.0146 - val_mae: 0.0947\n",
            "Epoch 4/200\n",
            "149/149 [==============================] - 2s 13ms/step - loss: 0.0147 - mae: 0.0926 - val_loss: 0.0173 - val_mae: 0.1030\n",
            "Epoch 5/200\n",
            "149/149 [==============================] - 2s 16ms/step - loss: 0.0136 - mae: 0.0890 - val_loss: 0.0114 - val_mae: 0.0821\n",
            "Epoch 6/200\n",
            "149/149 [==============================] - 2s 15ms/step - loss: 0.0123 - mae: 0.0848 - val_loss: 0.0104 - val_mae: 0.0777\n",
            "Epoch 7/200\n",
            "149/149 [==============================] - 2s 13ms/step - loss: 0.0114 - mae: 0.0810 - val_loss: 0.0101 - val_mae: 0.0769\n",
            "Epoch 8/200\n",
            "149/149 [==============================] - 2s 14ms/step - loss: 0.0103 - mae: 0.0774 - val_loss: 0.0094 - val_mae: 0.0760\n",
            "Epoch 9/200\n",
            "149/149 [==============================] - 2s 13ms/step - loss: 0.0097 - mae: 0.0751 - val_loss: 0.0086 - val_mae: 0.0715\n",
            "Epoch 10/200\n",
            "149/149 [==============================] - 2s 13ms/step - loss: 0.0093 - mae: 0.0729 - val_loss: 0.0082 - val_mae: 0.0702\n",
            "Epoch 11/200\n",
            "149/149 [==============================] - 3s 17ms/step - loss: 0.0089 - mae: 0.0714 - val_loss: 0.0082 - val_mae: 0.0685\n",
            "Epoch 12/200\n",
            "149/149 [==============================] - 2s 14ms/step - loss: 0.0087 - mae: 0.0705 - val_loss: 0.0079 - val_mae: 0.0672\n",
            "Epoch 13/200\n",
            "149/149 [==============================] - 2s 13ms/step - loss: 0.0086 - mae: 0.0694 - val_loss: 0.0088 - val_mae: 0.0725\n",
            "Epoch 14/200\n",
            "149/149 [==============================] - 2s 13ms/step - loss: 0.0086 - mae: 0.0696 - val_loss: 0.0094 - val_mae: 0.0773\n",
            "Epoch 15/200\n",
            "149/149 [==============================] - 2s 13ms/step - loss: 0.0085 - mae: 0.0694 - val_loss: 0.0077 - val_mae: 0.0671\n",
            "Epoch 16/200\n",
            "149/149 [==============================] - 2s 13ms/step - loss: 0.0084 - mae: 0.0693 - val_loss: 0.0081 - val_mae: 0.0693\n",
            "Epoch 17/200\n",
            "149/149 [==============================] - 3s 18ms/step - loss: 0.0084 - mae: 0.0688 - val_loss: 0.0083 - val_mae: 0.0703\n",
            "Epoch 18/200\n",
            "149/149 [==============================] - 2s 13ms/step - loss: 0.0085 - mae: 0.0691 - val_loss: 0.0082 - val_mae: 0.0698\n",
            "Epoch 19/200\n",
            "149/149 [==============================] - 2s 13ms/step - loss: 0.0084 - mae: 0.0688 - val_loss: 0.0096 - val_mae: 0.0768\n",
            "Epoch 20/200\n",
            "149/149 [==============================] - 2s 14ms/step - loss: 0.0085 - mae: 0.0690 - val_loss: 0.0076 - val_mae: 0.0662\n",
            "Epoch 21/200\n",
            "149/149 [==============================] - 2s 13ms/step - loss: 0.0084 - mae: 0.0693 - val_loss: 0.0078 - val_mae: 0.0677\n",
            "Epoch 22/200\n",
            "149/149 [==============================] - 2s 14ms/step - loss: 0.0084 - mae: 0.0691 - val_loss: 0.0078 - val_mae: 0.0668\n",
            "Epoch 23/200\n",
            "149/149 [==============================] - 2s 17ms/step - loss: 0.0084 - mae: 0.0689 - val_loss: 0.0077 - val_mae: 0.0672\n",
            "Epoch 24/200\n",
            "149/149 [==============================] - 2s 13ms/step - loss: 0.0084 - mae: 0.0690 - val_loss: 0.0076 - val_mae: 0.0656\n",
            "Epoch 25/200\n",
            "149/149 [==============================] - 2s 14ms/step - loss: 0.0084 - mae: 0.0684 - val_loss: 0.0076 - val_mae: 0.0661\n",
            "Epoch 26/200\n",
            "149/149 [==============================] - 2s 13ms/step - loss: 0.0083 - mae: 0.0685 - val_loss: 0.0075 - val_mae: 0.0658\n",
            "Epoch 27/200\n",
            "149/149 [==============================] - 3s 19ms/step - loss: 0.0083 - mae: 0.0685 - val_loss: 0.0082 - val_mae: 0.0697\n",
            "Epoch 28/200\n",
            "149/149 [==============================] - 3s 17ms/step - loss: 0.0084 - mae: 0.0686 - val_loss: 0.0077 - val_mae: 0.0667\n",
            "Epoch 29/200\n",
            "149/149 [==============================] - 2s 13ms/step - loss: 0.0082 - mae: 0.0683 - val_loss: 0.0077 - val_mae: 0.0666\n",
            "Epoch 30/200\n",
            "149/149 [==============================] - 3s 17ms/step - loss: 0.0084 - mae: 0.0685 - val_loss: 0.0078 - val_mae: 0.0676\n",
            "Epoch 31/200\n",
            "149/149 [==============================] - 2s 13ms/step - loss: 0.0083 - mae: 0.0680 - val_loss: 0.0093 - val_mae: 0.0769\n",
            "Epoch 32/200\n",
            "149/149 [==============================] - 2s 14ms/step - loss: 0.0082 - mae: 0.0680 - val_loss: 0.0078 - val_mae: 0.0678\n",
            "Epoch 33/200\n",
            "149/149 [==============================] - 2s 15ms/step - loss: 0.0083 - mae: 0.0682 - val_loss: 0.0080 - val_mae: 0.0695\n",
            "Epoch 34/200\n",
            "149/149 [==============================] - 2s 16ms/step - loss: 0.0082 - mae: 0.0676 - val_loss: 0.0078 - val_mae: 0.0674\n",
            "Epoch 35/200\n",
            "149/149 [==============================] - 2s 13ms/step - loss: 0.0083 - mae: 0.0679 - val_loss: 0.0079 - val_mae: 0.0688\n",
            "Epoch 36/200\n",
            "149/149 [==============================] - 2s 14ms/step - loss: 0.0082 - mae: 0.0682 - val_loss: 0.0079 - val_mae: 0.0686\n",
            "Epoch 37/200\n",
            "149/149 [==============================] - 2s 13ms/step - loss: 0.0082 - mae: 0.0678 - val_loss: 0.0075 - val_mae: 0.0660\n",
            "Epoch 38/200\n",
            "149/149 [==============================] - 2s 13ms/step - loss: 0.0082 - mae: 0.0680 - val_loss: 0.0075 - val_mae: 0.0657\n",
            "Epoch 39/200\n",
            "149/149 [==============================] - 2s 16ms/step - loss: 0.0082 - mae: 0.0675 - val_loss: 0.0079 - val_mae: 0.0685\n",
            "Epoch 40/200\n",
            "149/149 [==============================] - 2s 15ms/step - loss: 0.0082 - mae: 0.0676 - val_loss: 0.0075 - val_mae: 0.0662\n",
            "Epoch 41/200\n",
            "149/149 [==============================] - 2s 13ms/step - loss: 0.0082 - mae: 0.0677 - val_loss: 0.0086 - val_mae: 0.0730\n",
            "Epoch 42/200\n",
            "149/149 [==============================] - 2s 13ms/step - loss: 0.0082 - mae: 0.0674 - val_loss: 0.0076 - val_mae: 0.0656\n",
            "Epoch 43/200\n",
            "149/149 [==============================] - 2s 13ms/step - loss: 0.0082 - mae: 0.0677 - val_loss: 0.0077 - val_mae: 0.0675\n",
            "Epoch 44/200\n",
            "149/149 [==============================] - 2s 13ms/step - loss: 0.0082 - mae: 0.0677 - val_loss: 0.0076 - val_mae: 0.0667\n",
            "Epoch 45/200\n",
            "149/149 [==============================] - 3s 17ms/step - loss: 0.0082 - mae: 0.0676 - val_loss: 0.0086 - val_mae: 0.0734\n",
            "Epoch 46/200\n",
            "149/149 [==============================] - 2s 13ms/step - loss: 0.0082 - mae: 0.0677 - val_loss: 0.0074 - val_mae: 0.0654\n",
            "Epoch 47/200\n",
            "149/149 [==============================] - 2s 13ms/step - loss: 0.0081 - mae: 0.0677 - val_loss: 0.0079 - val_mae: 0.0682\n",
            "Epoch 48/200\n",
            "149/149 [==============================] - 2s 14ms/step - loss: 0.0081 - mae: 0.0677 - val_loss: 0.0080 - val_mae: 0.0700\n",
            "Epoch 49/200\n",
            "149/149 [==============================] - 2s 14ms/step - loss: 0.0082 - mae: 0.0677 - val_loss: 0.0075 - val_mae: 0.0658\n",
            "Epoch 50/200\n",
            "149/149 [==============================] - 2s 13ms/step - loss: 0.0082 - mae: 0.0678 - val_loss: 0.0074 - val_mae: 0.0653\n",
            "Epoch 51/200\n",
            "149/149 [==============================] - 3s 17ms/step - loss: 0.0081 - mae: 0.0674 - val_loss: 0.0076 - val_mae: 0.0668\n",
            "Epoch 52/200\n",
            "149/149 [==============================] - 2s 13ms/step - loss: 0.0081 - mae: 0.0678 - val_loss: 0.0078 - val_mae: 0.0661\n",
            "Epoch 53/200\n",
            "149/149 [==============================] - 2s 13ms/step - loss: 0.0081 - mae: 0.0675 - val_loss: 0.0074 - val_mae: 0.0654\n",
            "Epoch 54/200\n",
            "149/149 [==============================] - 2s 13ms/step - loss: 0.0081 - mae: 0.0667 - val_loss: 0.0075 - val_mae: 0.0665\n",
            "Epoch 55/200\n",
            "149/149 [==============================] - 2s 13ms/step - loss: 0.0080 - mae: 0.0674 - val_loss: 0.0090 - val_mae: 0.0757\n",
            "Epoch 56/200\n",
            "149/149 [==============================] - 2s 14ms/step - loss: 0.0081 - mae: 0.0673 - val_loss: 0.0079 - val_mae: 0.0686\n",
            "Epoch 57/200\n",
            "149/149 [==============================] - 2s 16ms/step - loss: 0.0081 - mae: 0.0679 - val_loss: 0.0074 - val_mae: 0.0657\n",
            "Epoch 58/200\n",
            "149/149 [==============================] - 2s 13ms/step - loss: 0.0081 - mae: 0.0673 - val_loss: 0.0074 - val_mae: 0.0654\n",
            "Epoch 59/200\n",
            "149/149 [==============================] - 2s 13ms/step - loss: 0.0080 - mae: 0.0674 - val_loss: 0.0079 - val_mae: 0.0689\n",
            "Epoch 60/200\n",
            "149/149 [==============================] - 2s 13ms/step - loss: 0.0081 - mae: 0.0675 - val_loss: 0.0077 - val_mae: 0.0676\n",
            "Epoch 61/200\n",
            "149/149 [==============================] - 2s 14ms/step - loss: 0.0081 - mae: 0.0673 - val_loss: 0.0075 - val_mae: 0.0665\n",
            "Epoch 62/200\n",
            "149/149 [==============================] - 2s 15ms/step - loss: 0.0081 - mae: 0.0675 - val_loss: 0.0074 - val_mae: 0.0654\n",
            "Epoch 63/200\n",
            "149/149 [==============================] - 2s 15ms/step - loss: 0.0081 - mae: 0.0675 - val_loss: 0.0080 - val_mae: 0.0678\n",
            "Epoch 64/200\n",
            "149/149 [==============================] - 2s 14ms/step - loss: 0.0081 - mae: 0.0670 - val_loss: 0.0075 - val_mae: 0.0662\n",
            "Epoch 65/200\n",
            "149/149 [==============================] - 2s 13ms/step - loss: 0.0081 - mae: 0.0676 - val_loss: 0.0076 - val_mae: 0.0665\n",
            "Epoch 66/200\n",
            "149/149 [==============================] - 2s 13ms/step - loss: 0.0080 - mae: 0.0675 - val_loss: 0.0075 - val_mae: 0.0663\n",
            "Epoch 67/200\n",
            "149/149 [==============================] - 2s 13ms/step - loss: 0.0080 - mae: 0.0672 - val_loss: 0.0074 - val_mae: 0.0649\n",
            "Epoch 68/200\n",
            "149/149 [==============================] - 2s 17ms/step - loss: 0.0080 - mae: 0.0668 - val_loss: 0.0074 - val_mae: 0.0661\n",
            "Epoch 69/200\n",
            "149/149 [==============================] - 2s 15ms/step - loss: 0.0081 - mae: 0.0673 - val_loss: 0.0074 - val_mae: 0.0651\n",
            "Epoch 70/200\n",
            "149/149 [==============================] - 2s 13ms/step - loss: 0.0081 - mae: 0.0672 - val_loss: 0.0073 - val_mae: 0.0651\n",
            "Epoch 71/200\n",
            "149/149 [==============================] - 2s 14ms/step - loss: 0.0080 - mae: 0.0670 - val_loss: 0.0078 - val_mae: 0.0678\n",
            "Epoch 72/200\n",
            "149/149 [==============================] - 2s 13ms/step - loss: 0.0081 - mae: 0.0671 - val_loss: 0.0076 - val_mae: 0.0671\n",
            "Epoch 73/200\n",
            "149/149 [==============================] - 2s 14ms/step - loss: 0.0081 - mae: 0.0671 - val_loss: 0.0075 - val_mae: 0.0654\n",
            "Epoch 74/200\n",
            "149/149 [==============================] - 3s 17ms/step - loss: 0.0081 - mae: 0.0674 - val_loss: 0.0075 - val_mae: 0.0664\n",
            "Epoch 75/200\n",
            "149/149 [==============================] - 2s 13ms/step - loss: 0.0080 - mae: 0.0673 - val_loss: 0.0081 - val_mae: 0.0685\n",
            "Epoch 76/200\n",
            "149/149 [==============================] - 2s 13ms/step - loss: 0.0079 - mae: 0.0668 - val_loss: 0.0083 - val_mae: 0.0705\n",
            "Epoch 77/200\n",
            "149/149 [==============================] - 2s 13ms/step - loss: 0.0080 - mae: 0.0666 - val_loss: 0.0079 - val_mae: 0.0680\n",
            "Epoch 78/200\n",
            "149/149 [==============================] - 2s 13ms/step - loss: 0.0080 - mae: 0.0674 - val_loss: 0.0076 - val_mae: 0.0671\n",
            "Epoch 79/200\n",
            "149/149 [==============================] - 2s 15ms/step - loss: 0.0080 - mae: 0.0668 - val_loss: 0.0082 - val_mae: 0.0713\n",
            "Epoch 80/200\n",
            "149/149 [==============================] - 2s 16ms/step - loss: 0.0080 - mae: 0.0673 - val_loss: 0.0080 - val_mae: 0.0695\n",
            "Epoch 81/200\n",
            "149/149 [==============================] - 2s 13ms/step - loss: 0.0080 - mae: 0.0671 - val_loss: 0.0079 - val_mae: 0.0665\n",
            "Epoch 82/200\n",
            "149/149 [==============================] - 2s 13ms/step - loss: 0.0080 - mae: 0.0672 - val_loss: 0.0081 - val_mae: 0.0699\n",
            "Epoch 83/200\n",
            "149/149 [==============================] - 2s 13ms/step - loss: 0.0080 - mae: 0.0675 - val_loss: 0.0073 - val_mae: 0.0654\n",
            "Epoch 84/200\n",
            "149/149 [==============================] - 2s 13ms/step - loss: 0.0080 - mae: 0.0669 - val_loss: 0.0084 - val_mae: 0.0699\n",
            "Epoch 85/200\n",
            "149/149 [==============================] - 2s 16ms/step - loss: 0.0081 - mae: 0.0670 - val_loss: 0.0075 - val_mae: 0.0659\n",
            "Epoch 86/200\n",
            "149/149 [==============================] - 2s 16ms/step - loss: 0.0080 - mae: 0.0670 - val_loss: 0.0075 - val_mae: 0.0651\n",
            "Epoch 87/200\n",
            "149/149 [==============================] - 2s 13ms/step - loss: 0.0080 - mae: 0.0666 - val_loss: 0.0073 - val_mae: 0.0652\n",
            "Epoch 88/200\n",
            "149/149 [==============================] - 2s 14ms/step - loss: 0.0080 - mae: 0.0671 - val_loss: 0.0075 - val_mae: 0.0663\n",
            "Epoch 89/200\n",
            "149/149 [==============================] - 2s 14ms/step - loss: 0.0079 - mae: 0.0668 - val_loss: 0.0083 - val_mae: 0.0694\n",
            "Epoch 90/200\n",
            "149/149 [==============================] - 2s 14ms/step - loss: 0.0080 - mae: 0.0674 - val_loss: 0.0073 - val_mae: 0.0647\n",
            "Epoch 91/200\n",
            "149/149 [==============================] - 3s 18ms/step - loss: 0.0080 - mae: 0.0670 - val_loss: 0.0086 - val_mae: 0.0707\n",
            "Epoch 92/200\n",
            "149/149 [==============================] - 2s 13ms/step - loss: 0.0080 - mae: 0.0671 - val_loss: 0.0076 - val_mae: 0.0672\n",
            "Epoch 93/200\n",
            "149/149 [==============================] - 2s 14ms/step - loss: 0.0080 - mae: 0.0667 - val_loss: 0.0074 - val_mae: 0.0653\n",
            "Epoch 94/200\n",
            "149/149 [==============================] - 2s 13ms/step - loss: 0.0080 - mae: 0.0667 - val_loss: 0.0074 - val_mae: 0.0645\n",
            "Epoch 95/200\n",
            "149/149 [==============================] - 2s 14ms/step - loss: 0.0080 - mae: 0.0672 - val_loss: 0.0073 - val_mae: 0.0653\n",
            "Epoch 96/200\n",
            "149/149 [==============================] - 2s 14ms/step - loss: 0.0079 - mae: 0.0668 - val_loss: 0.0075 - val_mae: 0.0666\n",
            "Epoch 97/200\n",
            "149/149 [==============================] - 3s 17ms/step - loss: 0.0080 - mae: 0.0668 - val_loss: 0.0083 - val_mae: 0.0676\n",
            "Epoch 98/200\n",
            "149/149 [==============================] - 2s 15ms/step - loss: 0.0079 - mae: 0.0666 - val_loss: 0.0076 - val_mae: 0.0659\n",
            "Epoch 99/200\n",
            "149/149 [==============================] - 2s 14ms/step - loss: 0.0079 - mae: 0.0664 - val_loss: 0.0074 - val_mae: 0.0652\n",
            "Epoch 100/200\n",
            "149/149 [==============================] - 2s 13ms/step - loss: 0.0080 - mae: 0.0663 - val_loss: 0.0086 - val_mae: 0.0733\n",
            "Epoch 101/200\n",
            "149/149 [==============================] - 3s 17ms/step - loss: 0.0080 - mae: 0.0670 - val_loss: 0.0078 - val_mae: 0.0667\n",
            "Epoch 102/200\n",
            "149/149 [==============================] - 3s 18ms/step - loss: 0.0080 - mae: 0.0668 - val_loss: 0.0075 - val_mae: 0.0664\n",
            "Epoch 103/200\n",
            "149/149 [==============================] - 2s 13ms/step - loss: 0.0080 - mae: 0.0666 - val_loss: 0.0075 - val_mae: 0.0652\n",
            "Epoch 104/200\n",
            "149/149 [==============================] - 2s 14ms/step - loss: 0.0080 - mae: 0.0667 - val_loss: 0.0074 - val_mae: 0.0653\n",
            "Epoch 105/200\n",
            "149/149 [==============================] - 2s 14ms/step - loss: 0.0080 - mae: 0.0672 - val_loss: 0.0073 - val_mae: 0.0644\n",
            "Epoch 106/200\n",
            "149/149 [==============================] - 2s 13ms/step - loss: 0.0080 - mae: 0.0667 - val_loss: 0.0074 - val_mae: 0.0652\n",
            "Epoch 107/200\n",
            "149/149 [==============================] - 2s 14ms/step - loss: 0.0080 - mae: 0.0665 - val_loss: 0.0076 - val_mae: 0.0665\n",
            "Epoch 108/200\n",
            "149/149 [==============================] - 3s 17ms/step - loss: 0.0080 - mae: 0.0669 - val_loss: 0.0079 - val_mae: 0.0693\n",
            "Epoch 109/200\n",
            "149/149 [==============================] - 2s 13ms/step - loss: 0.0079 - mae: 0.0666 - val_loss: 0.0073 - val_mae: 0.0650\n",
            "Epoch 110/200\n",
            "149/149 [==============================] - 2s 13ms/step - loss: 0.0079 - mae: 0.0667 - val_loss: 0.0080 - val_mae: 0.0690\n",
            "Epoch 111/200\n",
            "149/149 [==============================] - 2s 13ms/step - loss: 0.0079 - mae: 0.0671 - val_loss: 0.0074 - val_mae: 0.0650\n",
            "Epoch 112/200\n",
            "149/149 [==============================] - 2s 13ms/step - loss: 0.0079 - mae: 0.0667 - val_loss: 0.0073 - val_mae: 0.0652\n",
            "Epoch 113/200\n",
            "149/149 [==============================] - 2s 15ms/step - loss: 0.0079 - mae: 0.0668 - val_loss: 0.0078 - val_mae: 0.0680\n",
            "Epoch 114/200\n",
            "149/149 [==============================] - 2s 16ms/step - loss: 0.0079 - mae: 0.0664 - val_loss: 0.0075 - val_mae: 0.0648\n",
            "Epoch 115/200\n",
            "149/149 [==============================] - 2s 13ms/step - loss: 0.0080 - mae: 0.0665 - val_loss: 0.0075 - val_mae: 0.0651\n",
            "Epoch 116/200\n",
            "149/149 [==============================] - 2s 13ms/step - loss: 0.0079 - mae: 0.0667 - val_loss: 0.0074 - val_mae: 0.0650\n",
            "Epoch 117/200\n",
            "149/149 [==============================] - 2s 13ms/step - loss: 0.0080 - mae: 0.0667 - val_loss: 0.0073 - val_mae: 0.0650\n",
            "Epoch 118/200\n",
            "149/149 [==============================] - 2s 13ms/step - loss: 0.0078 - mae: 0.0664 - val_loss: 0.0075 - val_mae: 0.0651\n",
            "Epoch 119/200\n",
            "149/149 [==============================] - 2s 16ms/step - loss: 0.0079 - mae: 0.0669 - val_loss: 0.0075 - val_mae: 0.0652\n",
            "Epoch 120/200\n",
            "149/149 [==============================] - 2s 15ms/step - loss: 0.0079 - mae: 0.0665 - val_loss: 0.0074 - val_mae: 0.0653\n",
            "Epoch 121/200\n",
            "149/149 [==============================] - 2s 13ms/step - loss: 0.0080 - mae: 0.0669 - val_loss: 0.0073 - val_mae: 0.0646\n",
            "Epoch 122/200\n",
            "149/149 [==============================] - 2s 13ms/step - loss: 0.0079 - mae: 0.0669 - val_loss: 0.0072 - val_mae: 0.0645\n",
            "Epoch 123/200\n",
            "149/149 [==============================] - 2s 13ms/step - loss: 0.0079 - mae: 0.0670 - val_loss: 0.0074 - val_mae: 0.0660\n",
            "Epoch 124/200\n",
            "149/149 [==============================] - 2s 14ms/step - loss: 0.0079 - mae: 0.0666 - val_loss: 0.0075 - val_mae: 0.0661\n",
            "Epoch 125/200\n",
            "149/149 [==============================] - 3s 17ms/step - loss: 0.0079 - mae: 0.0664 - val_loss: 0.0081 - val_mae: 0.0700\n",
            "Epoch 126/200\n",
            "149/149 [==============================] - 2s 13ms/step - loss: 0.0078 - mae: 0.0664 - val_loss: 0.0074 - val_mae: 0.0658\n",
            "Epoch 127/200\n",
            "149/149 [==============================] - 2s 13ms/step - loss: 0.0079 - mae: 0.0665 - val_loss: 0.0073 - val_mae: 0.0647\n",
            "Epoch 128/200\n",
            "149/149 [==============================] - 2s 13ms/step - loss: 0.0079 - mae: 0.0665 - val_loss: 0.0072 - val_mae: 0.0640\n",
            "Epoch 129/200\n",
            "149/149 [==============================] - 2s 13ms/step - loss: 0.0078 - mae: 0.0662 - val_loss: 0.0074 - val_mae: 0.0659\n",
            "Epoch 130/200\n",
            "149/149 [==============================] - 2s 14ms/step - loss: 0.0078 - mae: 0.0666 - val_loss: 0.0076 - val_mae: 0.0662\n",
            "Epoch 131/200\n",
            "149/149 [==============================] - 3s 18ms/step - loss: 0.0079 - mae: 0.0669 - val_loss: 0.0076 - val_mae: 0.0664\n",
            "Epoch 132/200\n",
            "149/149 [==============================] - 2s 13ms/step - loss: 0.0079 - mae: 0.0667 - val_loss: 0.0075 - val_mae: 0.0662\n",
            "Epoch 133/200\n",
            "149/149 [==============================] - 2s 13ms/step - loss: 0.0079 - mae: 0.0666 - val_loss: 0.0072 - val_mae: 0.0649\n",
            "Epoch 134/200\n",
            "149/149 [==============================] - 2s 14ms/step - loss: 0.0079 - mae: 0.0668 - val_loss: 0.0074 - val_mae: 0.0657\n",
            "Epoch 135/200\n",
            "149/149 [==============================] - 2s 13ms/step - loss: 0.0079 - mae: 0.0662 - val_loss: 0.0072 - val_mae: 0.0639\n",
            "Epoch 136/200\n",
            "149/149 [==============================] - 2s 16ms/step - loss: 0.0079 - mae: 0.0666 - val_loss: 0.0072 - val_mae: 0.0637\n",
            "Epoch 137/200\n",
            "149/149 [==============================] - 2s 15ms/step - loss: 0.0079 - mae: 0.0667 - val_loss: 0.0072 - val_mae: 0.0644\n",
            "Epoch 138/200\n",
            "149/149 [==============================] - 2s 13ms/step - loss: 0.0079 - mae: 0.0669 - val_loss: 0.0072 - val_mae: 0.0644\n",
            "Epoch 139/200\n",
            "149/149 [==============================] - 2s 13ms/step - loss: 0.0079 - mae: 0.0664 - val_loss: 0.0072 - val_mae: 0.0652\n",
            "Epoch 140/200\n",
            "149/149 [==============================] - 2s 13ms/step - loss: 0.0078 - mae: 0.0662 - val_loss: 0.0071 - val_mae: 0.0637\n",
            "Epoch 141/200\n",
            "149/149 [==============================] - 2s 13ms/step - loss: 0.0078 - mae: 0.0664 - val_loss: 0.0073 - val_mae: 0.0649\n",
            "Epoch 142/200\n",
            "149/149 [==============================] - 2s 17ms/step - loss: 0.0078 - mae: 0.0664 - val_loss: 0.0079 - val_mae: 0.0692\n",
            "Epoch 143/200\n",
            "149/149 [==============================] - 2s 14ms/step - loss: 0.0078 - mae: 0.0666 - val_loss: 0.0075 - val_mae: 0.0656\n",
            "Epoch 144/200\n",
            "149/149 [==============================] - 2s 14ms/step - loss: 0.0079 - mae: 0.0663 - val_loss: 0.0076 - val_mae: 0.0667\n",
            "Epoch 145/200\n",
            "149/149 [==============================] - 2s 13ms/step - loss: 0.0078 - mae: 0.0662 - val_loss: 0.0075 - val_mae: 0.0649\n",
            "Epoch 146/200\n",
            "149/149 [==============================] - 2s 14ms/step - loss: 0.0078 - mae: 0.0661 - val_loss: 0.0075 - val_mae: 0.0666\n",
            "Epoch 147/200\n",
            "149/149 [==============================] - 2s 13ms/step - loss: 0.0078 - mae: 0.0661 - val_loss: 0.0073 - val_mae: 0.0656\n",
            "Epoch 148/200\n",
            "149/149 [==============================] - 3s 18ms/step - loss: 0.0078 - mae: 0.0664 - val_loss: 0.0073 - val_mae: 0.0659\n",
            "Epoch 149/200\n",
            "149/149 [==============================] - 2s 14ms/step - loss: 0.0078 - mae: 0.0660 - val_loss: 0.0074 - val_mae: 0.0660\n",
            "Epoch 150/200\n",
            "149/149 [==============================] - 2s 13ms/step - loss: 0.0079 - mae: 0.0662 - val_loss: 0.0073 - val_mae: 0.0645\n",
            "Epoch 151/200\n",
            "149/149 [==============================] - 2s 14ms/step - loss: 0.0078 - mae: 0.0664 - val_loss: 0.0075 - val_mae: 0.0670\n",
            "Epoch 152/200\n",
            "149/149 [==============================] - 2s 13ms/step - loss: 0.0079 - mae: 0.0669 - val_loss: 0.0072 - val_mae: 0.0652\n",
            "Epoch 153/200\n",
            "149/149 [==============================] - 2s 15ms/step - loss: 0.0079 - mae: 0.0664 - val_loss: 0.0075 - val_mae: 0.0666\n",
            "Epoch 154/200\n",
            "149/149 [==============================] - 3s 17ms/step - loss: 0.0079 - mae: 0.0666 - val_loss: 0.0072 - val_mae: 0.0650\n",
            "Epoch 155/200\n",
            "149/149 [==============================] - 2s 14ms/step - loss: 0.0078 - mae: 0.0661 - val_loss: 0.0072 - val_mae: 0.0644\n",
            "Epoch 156/200\n",
            "149/149 [==============================] - 2s 14ms/step - loss: 0.0078 - mae: 0.0664 - val_loss: 0.0075 - val_mae: 0.0651\n",
            "Epoch 157/200\n",
            "149/149 [==============================] - 2s 13ms/step - loss: 0.0078 - mae: 0.0662 - val_loss: 0.0073 - val_mae: 0.0644\n",
            "Epoch 158/200\n",
            "149/149 [==============================] - 2s 13ms/step - loss: 0.0079 - mae: 0.0664 - val_loss: 0.0076 - val_mae: 0.0655\n",
            "Epoch 159/200\n",
            "149/149 [==============================] - 3s 18ms/step - loss: 0.0078 - mae: 0.0661 - val_loss: 0.0079 - val_mae: 0.0693\n",
            "Epoch 160/200\n",
            "149/149 [==============================] - 2s 14ms/step - loss: 0.0079 - mae: 0.0664 - val_loss: 0.0073 - val_mae: 0.0639\n",
            "Epoch 161/200\n",
            "149/149 [==============================] - 2s 14ms/step - loss: 0.0079 - mae: 0.0665 - val_loss: 0.0072 - val_mae: 0.0642\n",
            "Epoch 162/200\n",
            "149/149 [==============================] - 2s 14ms/step - loss: 0.0078 - mae: 0.0664 - val_loss: 0.0073 - val_mae: 0.0643\n",
            "Epoch 163/200\n",
            "149/149 [==============================] - 2s 13ms/step - loss: 0.0078 - mae: 0.0661 - val_loss: 0.0074 - val_mae: 0.0659\n",
            "Epoch 164/200\n",
            "149/149 [==============================] - 2s 14ms/step - loss: 0.0078 - mae: 0.0665 - val_loss: 0.0075 - val_mae: 0.0658\n",
            "Epoch 165/200\n",
            "149/149 [==============================] - 3s 18ms/step - loss: 0.0078 - mae: 0.0665 - val_loss: 0.0078 - val_mae: 0.0686\n",
            "Epoch 166/200\n",
            "149/149 [==============================] - 2s 14ms/step - loss: 0.0079 - mae: 0.0665 - val_loss: 0.0073 - val_mae: 0.0642\n",
            "Epoch 167/200\n",
            "149/149 [==============================] - 2s 14ms/step - loss: 0.0078 - mae: 0.0661 - val_loss: 0.0074 - val_mae: 0.0642\n",
            "Epoch 168/200\n",
            "149/149 [==============================] - 2s 14ms/step - loss: 0.0078 - mae: 0.0658 - val_loss: 0.0074 - val_mae: 0.0662\n",
            "Epoch 169/200\n",
            "149/149 [==============================] - 2s 13ms/step - loss: 0.0078 - mae: 0.0664 - val_loss: 0.0074 - val_mae: 0.0641\n",
            "Epoch 170/200\n",
            "149/149 [==============================] - 2s 15ms/step - loss: 0.0078 - mae: 0.0661 - val_loss: 0.0071 - val_mae: 0.0643\n",
            "Epoch 171/200\n",
            "149/149 [==============================] - 2s 16ms/step - loss: 0.0078 - mae: 0.0659 - val_loss: 0.0075 - val_mae: 0.0650\n",
            "Epoch 172/200\n",
            "149/149 [==============================] - 3s 18ms/step - loss: 0.0078 - mae: 0.0660 - val_loss: 0.0073 - val_mae: 0.0659\n",
            "Epoch 173/200\n",
            "149/149 [==============================] - 2s 13ms/step - loss: 0.0079 - mae: 0.0666 - val_loss: 0.0072 - val_mae: 0.0643\n",
            "Epoch 174/200\n",
            "149/149 [==============================] - 2s 14ms/step - loss: 0.0078 - mae: 0.0661 - val_loss: 0.0072 - val_mae: 0.0643\n",
            "Epoch 175/200\n",
            "149/149 [==============================] - 2s 13ms/step - loss: 0.0078 - mae: 0.0661 - val_loss: 0.0075 - val_mae: 0.0667\n",
            "Epoch 176/200\n",
            "149/149 [==============================] - 3s 19ms/step - loss: 0.0078 - mae: 0.0665 - val_loss: 0.0073 - val_mae: 0.0650\n",
            "Epoch 177/200\n",
            "149/149 [==============================] - 2s 14ms/step - loss: 0.0078 - mae: 0.0662 - val_loss: 0.0076 - val_mae: 0.0661\n",
            "Epoch 178/200\n",
            "149/149 [==============================] - 2s 13ms/step - loss: 0.0078 - mae: 0.0661 - val_loss: 0.0073 - val_mae: 0.0659\n",
            "Epoch 179/200\n",
            "149/149 [==============================] - 2s 14ms/step - loss: 0.0078 - mae: 0.0662 - val_loss: 0.0081 - val_mae: 0.0687\n",
            "Epoch 180/200\n",
            "149/149 [==============================] - 2s 13ms/step - loss: 0.0077 - mae: 0.0660 - val_loss: 0.0074 - val_mae: 0.0654\n",
            "Epoch 181/200\n",
            "149/149 [==============================] - 2s 15ms/step - loss: 0.0078 - mae: 0.0659 - val_loss: 0.0076 - val_mae: 0.0659\n",
            "Epoch 182/200\n",
            "149/149 [==============================] - 3s 17ms/step - loss: 0.0078 - mae: 0.0662 - val_loss: 0.0073 - val_mae: 0.0656\n",
            "Epoch 183/200\n",
            "149/149 [==============================] - 2s 14ms/step - loss: 0.0078 - mae: 0.0662 - val_loss: 0.0073 - val_mae: 0.0645\n",
            "Epoch 184/200\n",
            "149/149 [==============================] - 2s 14ms/step - loss: 0.0078 - mae: 0.0663 - val_loss: 0.0073 - val_mae: 0.0658\n",
            "Epoch 185/200\n",
            "149/149 [==============================] - 2s 14ms/step - loss: 0.0077 - mae: 0.0660 - val_loss: 0.0074 - val_mae: 0.0651\n",
            "Epoch 186/200\n",
            "149/149 [==============================] - 2s 14ms/step - loss: 0.0077 - mae: 0.0662 - val_loss: 0.0073 - val_mae: 0.0641\n",
            "Epoch 187/200\n",
            "149/149 [==============================] - 3s 17ms/step - loss: 0.0077 - mae: 0.0660 - val_loss: 0.0075 - val_mae: 0.0674\n",
            "Epoch 188/200\n",
            "149/149 [==============================] - 2s 14ms/step - loss: 0.0078 - mae: 0.0657 - val_loss: 0.0071 - val_mae: 0.0638\n",
            "Epoch 189/200\n",
            "149/149 [==============================] - 2s 13ms/step - loss: 0.0078 - mae: 0.0659 - val_loss: 0.0072 - val_mae: 0.0637\n",
            "Epoch 190/200\n",
            "149/149 [==============================] - 2s 14ms/step - loss: 0.0078 - mae: 0.0659 - val_loss: 0.0072 - val_mae: 0.0640\n",
            "Epoch 191/200\n",
            "149/149 [==============================] - 2s 14ms/step - loss: 0.0078 - mae: 0.0662 - val_loss: 0.0076 - val_mae: 0.0654\n",
            "Epoch 192/200\n",
            "149/149 [==============================] - 2s 15ms/step - loss: 0.0078 - mae: 0.0663 - val_loss: 0.0073 - val_mae: 0.0654\n",
            "Epoch 193/200\n",
            "149/149 [==============================] - 3s 18ms/step - loss: 0.0078 - mae: 0.0661 - val_loss: 0.0073 - val_mae: 0.0652\n",
            "Epoch 194/200\n",
            "149/149 [==============================] - 2s 13ms/step - loss: 0.0077 - mae: 0.0662 - val_loss: 0.0073 - val_mae: 0.0646\n",
            "Epoch 195/200\n",
            "149/149 [==============================] - 2s 13ms/step - loss: 0.0078 - mae: 0.0665 - val_loss: 0.0074 - val_mae: 0.0656\n",
            "Epoch 196/200\n",
            "149/149 [==============================] - 2s 14ms/step - loss: 0.0077 - mae: 0.0660 - val_loss: 0.0073 - val_mae: 0.0652\n",
            "Epoch 197/200\n",
            "149/149 [==============================] - 2s 14ms/step - loss: 0.0077 - mae: 0.0656 - val_loss: 0.0074 - val_mae: 0.0661\n",
            "Epoch 198/200\n",
            "149/149 [==============================] - 2s 16ms/step - loss: 0.0077 - mae: 0.0661 - val_loss: 0.0076 - val_mae: 0.0681\n",
            "Epoch 199/200\n",
            "149/149 [==============================] - 2s 16ms/step - loss: 0.0077 - mae: 0.0658 - val_loss: 0.0075 - val_mae: 0.0669\n",
            "Epoch 200/200\n",
            "149/149 [==============================] - 2s 15ms/step - loss: 0.0077 - mae: 0.0659 - val_loss: 0.0075 - val_mae: 0.0669\n",
            "CPU times: user 7min 34s, sys: 19 s, total: 7min 53s\n",
            "Wall time: 7min 29s\n"
          ]
        }
      ]
    },
    {
      "cell_type": "markdown",
      "metadata": {
        "id": "Zg95yOFWhkgR"
      },
      "source": [
        "> ## 4) 학습결과 시각화"
      ]
    },
    {
      "cell_type": "code",
      "metadata": {
        "id": "A8Vr3ug9M9zc",
        "colab": {
          "base_uri": "https://localhost:8080/",
          "height": 335
        },
        "outputId": "879edfba-006e-4e67-976e-cd08f5b026c6"
      },
      "source": [
        "plt.figure(figsize = (12, 5))\n",
        "plt.plot(hist.history['loss'])\n",
        "plt.plot(hist.history['val_loss'])\n",
        "\n",
        "plt.ylabel('loss')\n",
        "plt.xlabel('epoch')\n",
        "plt.legend(['Train Loss', 'Valid Loss'], loc = 'upper right')\n",
        "plt.show()"
      ],
      "execution_count": null,
      "outputs": [
        {
          "output_type": "display_data",
          "data": {
            "text/plain": [
              "<Figure size 864x360 with 1 Axes>"
            ],
            "image/png": "[encoded data removed]"
          },
          "metadata": {
            "needs_background": "light"
          }
        }
      ]
    },
    {
      "cell_type": "markdown",
      "metadata": {
        "id": "WeiwThOrinOA"
      },
      "source": [
        "> ## 5) Model Evaluate"
      ]
    },
    {
      "cell_type": "code",
      "metadata": {
        "id": "r1q17wACNzKB",
        "colab": {
          "base_uri": "https://localhost:8080/"
        },
        "outputId": "42c51b51-9ee8-4b95-ca5c-a2b8c351657d"
      },
      "source": [
        "trainScore = model.evaluate(train_X, train_y, verbose = 0)\n",
        "print('Train Score: ', trainScore)\n",
        "\n",
        "testScore = model.evaluate(test_X, test_y, verbose = 0)\n",
        "print('Test Score: ', testScore)"
      ],
      "execution_count": null,
      "outputs": [
        {
          "output_type": "stream",
          "name": "stdout",
          "text": [
            "Train Score:  [0.007669310085475445, 0.06680922210216522]\n",
            "Test Score:  [0.0075095887295901775, 0.06686476618051529]\n"
          ]
        }
      ]
    },
    {
      "cell_type": "markdown",
      "metadata": {
        "id": "dqxgKlNhap2N"
      },
      "source": [
        "# V. Model Predict"
      ]
    },
    {
      "cell_type": "code",
      "metadata": {
        "id": "7SQlNaHvOeq8",
        "colab": {
          "base_uri": "https://localhost:8080/",
          "height": 320
        },
        "outputId": "c1d10ba7-ebca-400f-96e7-30c6a32c2050"
      },
      "source": [
        "look_ahead = 550\n",
        "\n",
        "xhat = test_X[0]\n",
        "\n",
        "predictions = np.zeros((look_ahead, 1))\n",
        "\n",
        "for i in range(look_ahead):\n",
        "    prediction = model.predict(np.array([xhat]), batch_size = 1, verbose = 0)\n",
        "    predictions[i] = prediction\n",
        "    xhat = np.vstack([xhat[1:], prediction])\n",
        "    \n",
        "plt.figure(figsize = (12, 5))\n",
        "plt.plot(np.arange(look_ahead), predictions, 'r', label = 'Prediction')\n",
        "plt.plot(np.arange(look_ahead), test_y[:look_ahead], label = 'Test_Data')\n",
        "plt.legend()\n",
        "plt.show()"
      ],
      "execution_count": null,
      "outputs": [
        {
          "output_type": "display_data",
          "data": {
            "text/plain": [
              "<Figure size 864x360 with 1 Axes>"
            ],
            "image/png": "[encoded data removed]"
          },
          "metadata": {
            "needs_background": "light"
          }
        }
      ]
    },
    {
      "cell_type": "markdown",
      "metadata": {
        "id": "ySWnrG5-h-4X"
      },
      "source": [
        "# \n",
        "# \n",
        "# \n",
        "# The End\n",
        "# \n",
        "# \n",
        "# "
      ]
    }
  ]
}
